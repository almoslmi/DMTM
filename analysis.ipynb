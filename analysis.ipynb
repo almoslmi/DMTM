{
 "cells": [
  {
   "cell_type": "code",
   "execution_count": 1,
   "metadata": {
    "collapsed": true
   },
   "outputs": [],
   "source": [
    "import numpy as np\n",
    "import pandas as pd\n",
    "import string\n",
    "import math\n",
    "import nltk\n",
    "#nltk.download('popular')\n",
    "import scipy.sparse as sp\n",
    "from nltk.corpus import treebank\n",
    "from nltk.corpus import stopwords\n",
    "from nltk.parse.corenlp import CoreNLPParser\n",
    "from nltk.stem import PorterStemmer # for stemming if need be\n",
    "from sklearn.feature_extraction.text import CountVectorizer\n",
    "from sklearn.ensemble import RandomForestClassifier\n",
    "from sklearn.naive_bayes import GaussianNB"
   ]
  },
  {
   "cell_type": "code",
   "execution_count": 2,
   "metadata": {
    "collapsed": true
   },
   "outputs": [],
   "source": [
    "train_df = pd.read_csv('project_2_train/data_1_train.csv')\n",
    "train_df.columns = ['example_id', 'text', 'aspect_term', 'term_location', 'class']\n",
    "\n",
    "# proportion of each sentiment\n",
    "classes, counts = np.unique(train_df['class'], return_counts = True)\n",
    "prop = counts/ sum(counts) # positive > negative > neutral\n",
    "\n",
    "# replacing [comma] in text with ','\n",
    "train_df['text'] = train_df['text'].apply(lambda str : str.replace(\"[comma]\", \",\"))\n",
    "\n",
    "# tokenization\n",
    "train_df['tokens'] = train_df['text'].apply(nltk.word_tokenize)\n",
    "\n",
    "# removing stopwords and puctuation\n",
    "stop = set(stopwords.words('english'))\n",
    "train_df['tok_wo_stop'] = train_df['tokens'].apply(lambda val : [x for x in val if (x not in stop and x not in string.punctuation)])\n",
    "\n",
    "# tagging\n",
    "#train_df['tagged'] = train_df['tok_wo_stop'].apply(nltk.pos_tag) #taking too much time, think of better way if possible\n",
    "\n",
    "# Bag of Words\n",
    "train_df['token_list'] = train_df['tok_wo_stop'].apply(lambda x : \" \".join(x))"
   ]
  },
  {
   "cell_type": "code",
   "execution_count": 40,
   "metadata": {},
   "outputs": [],
   "source": [
    "# converting text to features\n",
    "vectorizer = CountVectorizer(analyzer = \"word\",\n",
    "                            tokenizer = None,\n",
    "                            preprocessor = None,\n",
    "                            stop_words = None,\n",
    "                            min_df = 2)\n",
    "sample = train_df[['token_list', 'aspect_term']]\n",
    "features = sp.hstack(sample.apply(lambda col: vectorizer.fit_transform(col))) #no polarity of aspect taken into account yet!\n",
    "features = features.toarray()\n",
    "\n",
    "# splitting features into training and test feature set (90:10)\n",
    "train_end = math.floor(0.9*(train_df['token_list'].size))\n",
    "train_features = features[:train_end]\n",
    "test_features = features[train_end:]"
   ]
  },
  {
   "cell_type": "code",
   "execution_count": 41,
   "metadata": {
    "collapsed": true
   },
   "outputs": [],
   "source": [
    "forest = RandomForestClassifier(n_estimators = 100)\n",
    "#forest = GaussianNB()\n",
    "forest = forest.fit(train_features, train_df.loc[ : train_end - 1 , 'class'])"
   ]
  },
  {
   "cell_type": "code",
   "execution_count": 42,
   "metadata": {},
   "outputs": [
    {
     "name": "stdout",
     "output_type": "stream",
     "text": [
      "0.778280542986\n"
     ]
    }
   ],
   "source": [
    "result = forest.predict(test_features)\n",
    "print(((result == train_df.loc[train_end :  , 'class']).sum()) / result.size)"
   ]
  },
  {
   "cell_type": "code",
   "execution_count": null,
   "metadata": {
    "collapsed": true
   },
   "outputs": [],
   "source": []
  }
 ],
 "metadata": {
  "kernelspec": {
   "display_name": "Python 3",
   "language": "python",
   "name": "python3"
  },
  "language_info": {
   "codemirror_mode": {
    "name": "ipython",
    "version": 3
   },
   "file_extension": ".py",
   "mimetype": "text/x-python",
   "name": "python",
   "nbconvert_exporter": "python",
   "pygments_lexer": "ipython3",
   "version": "3.6.3"
  }
 },
 "nbformat": 4,
 "nbformat_minor": 2
}
