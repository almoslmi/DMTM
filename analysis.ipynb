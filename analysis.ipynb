{
 "cells": [
  {
   "cell_type": "code",
   "execution_count": 1,
   "metadata": {
    "collapsed": true
   },
   "outputs": [],
   "source": [
    "import numpy as np\n",
    "import pandas as pd\n",
    "import string\n",
    "import math\n",
    "import nltk\n",
    "#nltk.download('popular')\n",
    "from nltk.corpus import treebank\n",
    "from nltk.corpus import stopwords\n",
    "from nltk.parse.corenlp import CoreNLPParser\n",
    "from nltk.stem import PorterStemmer # for stemming if need be\n",
    "from sklearn.feature_extraction.text import CountVectorizer\n",
    "from sklearn.ensemble import RandomForestClassifier\n",
    "from sklearn.naive_bayes import GaussianNB"
   ]
  },
  {
   "cell_type": "code",
   "execution_count": 2,
   "metadata": {
    "collapsed": true
   },
   "outputs": [],
   "source": [
    "train_df = pd.read_csv('project_2_train/data_1_train.csv')\n",
    "train_df.columns = ['example_id', 'text', 'aspect_term', 'term_location', 'class']\n",
    "\n",
    "# proportion of each sentiment\n",
    "classes, counts = np.unique(train_df['class'], return_counts = True)\n",
    "prop = counts/ sum(counts) # positive > negative > neutral\n",
    "\n",
    "# replacing [comma] in text with ','\n",
    "train_df['text'] = train_df['text'].apply(lambda str : str.replace(\"[comma]\", \",\"))\n",
    "\n",
    "# tokenization\n",
    "train_df['tokens'] = train_df['text'].apply(nltk.word_tokenize)\n",
    "\n",
    "# removing stopwords and puctuation\n",
    "stop = set(stopwords.words('english'))\n",
    "train_df['tok_wo_stop'] = train_df['tokens'].apply(lambda val : [x for x in val if (x not in stop and x not in string.punctuation)])\n",
    "\n",
    "# tagging\n",
    "#train_df['tagged'] = train_df['tok_wo_stop'].apply(nltk.pos_tag) #taking too much time, think of better way if possible\n",
    "\n",
    "# Bag of Words\n",
    "token_list = [\" \".join(x) for x in train_df['tok_wo_stop']]"
   ]
  },
  {
   "cell_type": "code",
   "execution_count": 15,
   "metadata": {
    "collapsed": true
   },
   "outputs": [],
   "source": [
    "# splitting data into training and test set\n",
    "train_end = math.floor(0.8*len(token_list))\n",
    "train_token_list = token_list[ : train_end]\n",
    "test_token_list = token_list[train_end : ]\n",
    "\n",
    "# converting text to features\n",
    "vectorizer = CountVectorizer(analyzer = \"word\",\n",
    "                            tokenizer = None,\n",
    "                            preprocessor = None,\n",
    "                            stop_words = None,\n",
    "                            max_features = 1530)\n",
    "train_features = vectorizer.fit_transform(train_token_list) #no aspect taken into account yet!\n",
    "train_features = train_features.toarray()\n",
    "test_features = vectorizer.fit_transform(test_token_list)\n",
    "test_features = test_features.toarray()"
   ]
  },
  {
   "cell_type": "code",
   "execution_count": 16,
   "metadata": {
    "collapsed": true
   },
   "outputs": [],
   "source": [
    "forest = RandomForestClassifier(n_estimators = 100)\n",
    "#forest = GaussianNB()\n",
    "forest = forest.fit(train_features, train_df.loc[ : train_end - 1 , 'class'])"
   ]
  },
  {
   "cell_type": "code",
   "execution_count": 17,
   "metadata": {},
   "outputs": [
    {
     "name": "stdout",
     "output_type": "stream",
     "text": [
      "0.43537414966\n"
     ]
    }
   ],
   "source": [
    "result = forest.predict(test_features)\n",
    "print(((result == train_df.loc[train_end :  , 'class']).sum()) / result.size)"
   ]
  },
  {
   "cell_type": "code",
   "execution_count": null,
   "metadata": {
    "collapsed": true
   },
   "outputs": [],
   "source": []
  }
 ],
 "metadata": {
  "kernelspec": {
   "display_name": "Python 3",
   "language": "python",
   "name": "python3"
  },
  "language_info": {
   "codemirror_mode": {
    "name": "ipython",
    "version": 3
   },
   "file_extension": ".py",
   "mimetype": "text/x-python",
   "name": "python",
   "nbconvert_exporter": "python",
   "pygments_lexer": "ipython3",
   "version": "3.6.3"
  }
 },
 "nbformat": 4,
 "nbformat_minor": 2
}
